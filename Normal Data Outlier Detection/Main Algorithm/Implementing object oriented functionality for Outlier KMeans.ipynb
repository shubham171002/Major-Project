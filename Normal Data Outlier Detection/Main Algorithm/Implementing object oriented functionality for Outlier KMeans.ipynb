{
 "cells": [
  {
   "cell_type": "code",
   "execution_count": 8,
   "id": "be1d4e3f",
   "metadata": {},
   "outputs": [],
   "source": [
    "class Outlier_KMeans:\n",
    "    \n",
    "    def __init__(self):\n",
    "        return 0\n",
    "        #parameters to be defined\n",
    "    \n",
    "    def fit(data):\n",
    "        return 0 \n",
    "        # code to be written to fit the data to model for clustering\n",
    "        \n",
    "    def predict(new_data):\n",
    "        return 0\n",
    "        # code to be written to predict whether the new data point will be part of some cluster or outlier"
   ]
  },
  {
   "cell_type": "code",
   "execution_count": null,
   "id": "7feb631d",
   "metadata": {},
   "outputs": [],
   "source": []
  }
 ],
 "metadata": {
  "kernelspec": {
   "display_name": "Python 3 (ipykernel)",
   "language": "python",
   "name": "python3"
  },
  "language_info": {
   "codemirror_mode": {
    "name": "ipython",
    "version": 3
   },
   "file_extension": ".py",
   "mimetype": "text/x-python",
   "name": "python",
   "nbconvert_exporter": "python",
   "pygments_lexer": "ipython3",
   "version": "3.11.5"
  }
 },
 "nbformat": 4,
 "nbformat_minor": 5
}
